{
 "cells": [
  {
   "cell_type": "markdown",
   "metadata": {},
   "source": [
    "# ML Group Project - James Hardwick"
   ]
  },
  {
   "cell_type": "markdown",
   "metadata": {},
   "source": [
    "Note that this notebook contains the final program.<br>\n",
    "All experimentation is viewable on GitHub: https://github.com/jameshardweek/ML-Group-Project"
   ]
  },
  {
   "cell_type": "markdown",
   "metadata": {},
   "source": [
    "Create dataframes from datasets"
   ]
  },
  {
   "cell_type": "code",
   "execution_count": 4,
   "metadata": {},
   "outputs": [],
   "source": [
    "import pandas as pd\n",
    "\n",
    "twitter_df = pd.read_table('https://raw.githubusercontent.com/ahmetaker/goodBadNews/master/good_badnews_Twitter.tsv')\n",
    "news_df = pd.read_csv('https://raw.githubusercontent.com/ahmetaker/goodBadNews/master/good_badnews_NewsArticles.csv')"
   ]
  },
  {
   "cell_type": "markdown",
   "metadata": {},
   "source": [
    "Script to get tweets from Twitter IDs is in file GetTweets.py<br>\n",
    "Scraped dataset file is also included"
   ]
  },
  {
   "cell_type": "markdown",
   "metadata": {},
   "source": [
    "Preprocessing function"
   ]
  },
  {
   "cell_type": "code",
   "execution_count": 5,
   "metadata": {},
   "outputs": [],
   "source": [
    "import re\n",
    "\n",
    "def process_text(text):\n",
    "    # Remove all URLs from text\n",
    "    text = re.sub(r'https?://\\S+', '', text).strip()\n",
    "    # Only include alphabetical characters\n",
    "    text = ''.join([x.lower() for x in text if x.isalpha() or x == ' '])\n",
    "    return ' '.join([x for x in text.split()])"
   ]
  },
  {
   "cell_type": "markdown",
   "metadata": {},
   "source": [
    "Combine all text and labels into single dataframe"
   ]
  },
  {
   "cell_type": "code",
   "execution_count": 6,
   "metadata": {},
   "outputs": [],
   "source": [
    "# Use scraped dataset\n",
    "twitter_df = pd.read_csv('data/twitter_unprocessed.csv')\n",
    "twitter_text = [x for x in twitter_df['text']]\n",
    "twitter_labels = [x for x in twitter_df['status']]\n",
    "\n",
    "news_text = [x for x in news_df['Title']]\n",
    "news_labels = [x for x in news_df['Majority Score']]"
   ]
  },
  {
   "cell_type": "markdown",
   "metadata": {},
   "source": [
    "Convert news dataset labels into 0 or 1"
   ]
  },
  {
   "cell_type": "code",
   "execution_count": 7,
   "metadata": {},
   "outputs": [],
   "source": [
    "new_labels = []\n",
    "\n",
    "for label in news_labels:\n",
    "    if label == 2:\n",
    "        new_labels.append(1)\n",
    "    elif label == 3:\n",
    "        new_labels.append(0)\n",
    "    else:\n",
    "        new_labels.append(label)"
   ]
  },
  {
   "cell_type": "markdown",
   "metadata": {},
   "source": [
    "Combine datasets, with text preprocessing"
   ]
  },
  {
   "cell_type": "code",
   "execution_count": 8,
   "metadata": {},
   "outputs": [
    {
     "data": {
      "text/plain": [
       "['irma turning into monster hurricane east coast',\n",
       " 'harvey will continue to track toward central america with gusty thunderstorms and rough seas into tuesday',\n",
       " 'who seeks million for coordinated fight against ebola',\n",
       " 'liberian ebola quarantine spawns chaos cnn',\n",
       " 'four killed by truck driven into crowd in swedish capitalstockholmterrorattack stockholm']"
      ]
     },
     "execution_count": 8,
     "metadata": {},
     "output_type": "execute_result"
    }
   ],
   "source": [
    "all_text = twitter_text + news_text\n",
    "\n",
    "clean_text = [process_text(x) for x in all_text]\n",
    "\n",
    "y = twitter_labels + new_labels\n",
    "\n",
    "from random import choices\n",
    "choices(clean_text, k=5)"
   ]
  },
  {
   "cell_type": "markdown",
   "metadata": {},
   "source": [
    "Create TFIDF Vectorizer object and train with all text"
   ]
  },
  {
   "cell_type": "code",
   "execution_count": 9,
   "metadata": {},
   "outputs": [],
   "source": [
    "from sklearn.feature_extraction.text import TfidfVectorizer\n",
    "\n",
    "td = TfidfVectorizer()\n",
    "X = td.fit_transform(clean_text)"
   ]
  },
  {
   "cell_type": "markdown",
   "metadata": {},
   "source": [
    "Create training and test data"
   ]
  },
  {
   "cell_type": "code",
   "execution_count": 10,
   "metadata": {},
   "outputs": [],
   "source": [
    "from sklearn.model_selection import train_test_split\n",
    "\n",
    "X_train, X_test, y_train, y_test = train_test_split(X, y, test_size = 0.3)"
   ]
  },
  {
   "cell_type": "markdown",
   "metadata": {},
   "source": [
    "Create SVM classifier"
   ]
  },
  {
   "cell_type": "code",
   "execution_count": 11,
   "metadata": {},
   "outputs": [],
   "source": [
    "from sklearn import svm\n",
    "\n",
    "clf = svm.SVC().fit(X_train, y_train)\n",
    "# clf = load('models/svm_both')"
   ]
  },
  {
   "cell_type": "markdown",
   "metadata": {},
   "source": [
    "Make some predictions"
   ]
  },
  {
   "cell_type": "code",
   "execution_count": 12,
   "metadata": {},
   "outputs": [
    {
     "data": {
      "text/plain": [
       "array([0, 0, 0, 1, 0, 0, 0, 0, 0, 1])"
      ]
     },
     "execution_count": 12,
     "metadata": {},
     "output_type": "execute_result"
    }
   ],
   "source": [
    "y_pred = clf.predict(X_test)\n",
    "y_pred[:10]"
   ]
  },
  {
   "cell_type": "markdown",
   "metadata": {},
   "source": [
    "View metrics on classifier"
   ]
  },
  {
   "cell_type": "code",
   "execution_count": 13,
   "metadata": {},
   "outputs": [
    {
     "name": "stdout",
     "output_type": "stream",
     "text": [
      "Accuracy: 0.8909560723514212\n",
      "\n",
      "Classification Report:\n",
      "======================================================\n",
      "              precision    recall  f1-score   support\n",
      "\n",
      "           0       0.92      0.93      0.93      1402\n",
      "           1       0.81      0.79      0.80       533\n",
      "\n",
      "    accuracy                           0.89      1935\n",
      "   macro avg       0.87      0.86      0.86      1935\n",
      "weighted avg       0.89      0.89      0.89      1935\n",
      "\n",
      "======================================================\n"
     ]
    }
   ],
   "source": [
    "from sklearn.metrics import accuracy_score, classification_report\n",
    "\n",
    "print(f'Accuracy: {accuracy_score(y_test, y_pred)}')\n",
    "print()\n",
    "print(f'Classification Report:')\n",
    "print(f'======================================================')\n",
    "print(f'{classification_report(y_test, y_pred)}')\n",
    "print(f'======================================================')"
   ]
  },
  {
   "cell_type": "markdown",
   "metadata": {},
   "source": [
    "Confusion Matrix"
   ]
  },
  {
   "cell_type": "code",
   "execution_count": 14,
   "metadata": {},
   "outputs": [
    {
     "data": {
      "text/plain": [
       "<sklearn.metrics._plot.confusion_matrix.ConfusionMatrixDisplay at 0x15f25faf0>"
      ]
     },
     "execution_count": 14,
     "metadata": {},
     "output_type": "execute_result"
    },
    {
     "data": {
      "image/png": "[encoded data removed]",
      "text/plain": [
       "<Figure size 432x288 with 2 Axes>"
      ]
     },
     "metadata": {
      "needs_background": "light"
     },
     "output_type": "display_data"
    }
   ],
   "source": [
    "from sklearn.metrics import ConfusionMatrixDisplay\n",
    "\n",
    "ConfusionMatrixDisplay.from_estimator(clf, X_test, y_test)"
   ]
  },
  {
   "cell_type": "markdown",
   "metadata": {},
   "source": [
    "Retrieve current country using IPInfo.io, to display only relevant headlines"
   ]
  },
  {
   "cell_type": "code",
   "execution_count": 15,
   "metadata": {},
   "outputs": [
    {
     "data": {
      "text/plain": [
       "'gb'"
      ]
     },
     "execution_count": 15,
     "metadata": {},
     "output_type": "execute_result"
    }
   ],
   "source": [
    "import requests, json, iso3166\n",
    "\n",
    "country = 'gb'\n",
    "\n",
    "ip_info = requests.get('http://ipinfo.io/json').content\n",
    "ip_info_json = json.loads(ip_info)\n",
    "current_country = ip_info_json['country'].lower()\n",
    "\n",
    "if current_country in iso3166.countries:\n",
    "    country = current_country\n",
    "\n",
    "country"
   ]
  },
  {
   "cell_type": "markdown",
   "metadata": {},
   "source": [
    "Get today's top headlines using NewsAPI"
   ]
  },
  {
   "cell_type": "code",
   "execution_count": 16,
   "metadata": {},
   "outputs": [
    {
     "data": {
      "text/plain": [
       "[\"Ncuti Gatwa will star as Doctor Who's Fourteenth Doctor - The Verge\",\n",
       " 'Doormen contacted by police over video of man being battered - Liverpool Echo',\n",
       " \"Ncuti Gatwa will star as Doctor Who's Fourteenth Doctor - The Verge\",\n",
       " 'Dennis Waterman, Minder and New Tricks star, dies aged 74 - The Guardian',\n",
       " 'Premier League LIVE: Arsenal vs Leeds, Leicester vs Everton & Norwich vs West Ham - scores & updates - Daily Mail']"
      ]
     },
     "execution_count": 16,
     "metadata": {},
     "output_type": "execute_result"
    }
   ],
   "source": [
    "from datetime import date\n",
    "\n",
    "API_KEY = \"708ad74a333343d78c544425e5cb85cd\"\n",
    "DATE = date.today().strftime(\"%Y-%m-%d\")\n",
    "\n",
    "headlines = requests.get(f\"https://newsapi.org/v2/top-headlines?country={country}&apiKey={API_KEY}\").content\n",
    "headlines_json = json.loads(headlines)\n",
    "\n",
    "titles = [x['title'] for x in headlines_json['articles']]\n",
    "choices(titles, k=5)"
   ]
  },
  {
   "cell_type": "markdown",
   "metadata": {},
   "source": [
    "Retrain classifier using whole dataset for better accuracy"
   ]
  },
  {
   "cell_type": "code",
   "execution_count": 17,
   "metadata": {},
   "outputs": [],
   "source": [
    "clf = svm.SVC().fit(X, y)"
   ]
  },
  {
   "cell_type": "markdown",
   "metadata": {},
   "source": [
    "Make predictions on whether headline is good or bad and display only the predicted good headlines"
   ]
  },
  {
   "cell_type": "code",
   "execution_count": 18,
   "metadata": {},
   "outputs": [
    {
     "data": {
      "text/plain": [
       "[\"F1 drivers have asked FIA to clean Miami's first corner\",\n",
       " 'From Barnard Castle to Beergate: Durham police chief at centre of national row again',\n",
       " 'BAFTA TV Awards 2022: Celebrities take to the red carpet ahead of show',\n",
       " '‘Crypto muggings’: thieves in London target digital investors by taking phones',\n",
       " 'Afghanistan face veil decree: ‘I’ve lost the right to choose my clothes’']"
      ]
     },
     "execution_count": 18,
     "metadata": {},
     "output_type": "execute_result"
    }
   ],
   "source": [
    "good_headlines = []\n",
    "\n",
    "for title in titles:\n",
    "    title = ''.join(title.split(' - ')[:-1])\n",
    "    clean_title = process_text(title)\n",
    "    X = td.transform([clean_title])\n",
    "    prediction = clf.predict(X)[0]\n",
    "\n",
    "    if prediction == 1:\n",
    "        good_headlines.append(title)\n",
    "\n",
    "good_headlines"
   ]
  }
 ],
 "metadata": {
  "interpreter": {
   "hash": "b0fa6594d8f4cbf19f97940f81e996739fb7646882a419484c72d19e05852a7e"
  },
  "kernelspec": {
   "display_name": "Python 3.9.12 64-bit",
   "language": "python",
   "name": "python3"
  },
  "language_info": {
   "codemirror_mode": {
    "name": "ipython",
    "version": 3
   },
   "file_extension": ".py",
   "mimetype": "text/x-python",
   "name": "python",
   "nbconvert_exporter": "python",
   "pygments_lexer": "ipython3",
   "version": "3.9.12"
  },
  "orig_nbformat": 4
 },
 "nbformat": 4,
 "nbformat_minor": 2
}
