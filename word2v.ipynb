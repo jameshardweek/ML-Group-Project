{
 "cells": [
  {
   "cell_type": "markdown",
   "metadata": {},
   "source": [
    "# SEBASTIAN ANNETT - WORD2VEC TESTING"
   ]
  },
  {
   "cell_type": "code",
   "execution_count": 2,
   "metadata": {
    "collapsed": true
   },
   "outputs": [
    {
     "name": "stderr",
     "output_type": "stream",
     "text": [
      "[nltk_data] Downloading package punkt to /Users/james/nltk_data...\n",
      "[nltk_data]   Unzipping tokenizers/punkt.zip.\n"
     ]
    }
   ],
   "source": [
    "import pandas as pd\n",
    "import nltk\n",
    "import gensim\n",
    "from gensim import corpora, models, similarities\n",
    "# nltk.download('punkt')\n",
    "data = pd.read_csv(\"data/twitter_processed.csv\")\n",
    "\n",
    "x = data['text'].values.tolist()\n",
    "y = data['status'].values.tolist()\n",
    "y2 = []\n",
    "for element in y:\n",
    "    y2.append(str(element))\n",
    "\n",
    "all = x + y2\n",
    "# print(all)\n",
    "tok = [nltk.word_tokenize(sent) for sent in all]\n",
    "\n",
    "mod = gensim.models.Word2Vec(tok, sg=1, min_count=1, vector_size = 32)\n"
   ]
  },
  {
   "cell_type": "code",
   "execution_count": 3,
   "metadata": {
    "collapsed": false,
    "pycharm": {
     "name": "#%%\n"
    }
   },
   "outputs": [
    {
     "data": {
      "text/plain": [
       "[('details', 0.9917933940887451),\n",
       " ('tornadoes', 0.9916085004806519),\n",
       " ('regardless', 0.9909626841545105),\n",
       " ('interests', 0.9902734160423279),\n",
       " ('surrounding', 0.989857017993927),\n",
       " ('forecasts', 0.9895566701889038),\n",
       " ('refineries', 0.9894768595695496),\n",
       " ('front', 0.9893354773521423),\n",
       " ('guard', 0.9892234206199646),\n",
       " ('harveystorm', 0.9892210960388184)]"
      ]
     },
     "execution_count": 3,
     "metadata": {},
     "output_type": "execute_result"
    }
   ],
   "source": [
    "mod.wv.most_similar('good')\n"
   ]
  },
  {
   "cell_type": "code",
   "execution_count": 91,
   "metadata": {
    "collapsed": false,
    "pycharm": {
     "name": "#%%\n"
    }
   },
   "outputs": [
    {
     "data": {
      "text/plain": [
       "[('dead', 0.9178880453109741),\n",
       " ('killed', 0.8926308155059814),\n",
       " ('three', 0.8850424885749817),\n",
       " ('deaths', 0.8818561434745789),\n",
       " ('truck', 0.8789886236190796),\n",
       " ('outside', 0.8773269057273865),\n",
       " ('two', 0.873879611492157),\n",
       " ('many', 0.8735404014587402),\n",
       " ('innocent', 0.8723857998847961),\n",
       " ('persons', 0.8707932829856873)]"
      ]
     },
     "execution_count": 91,
     "metadata": {},
     "output_type": "execute_result"
    }
   ],
   "source": []
  }
 ],
 "metadata": {
  "interpreter": {
   "hash": "b0fa6594d8f4cbf19f97940f81e996739fb7646882a419484c72d19e05852a7e"
  },
  "kernelspec": {
   "display_name": "Python 3.9.12 64-bit",
   "language": "python",
   "name": "python3"
  },
  "language_info": {
   "codemirror_mode": {
    "name": "ipython",
    "version": 3
   },
   "file_extension": ".py",
   "mimetype": "text/x-python",
   "name": "python",
   "nbconvert_exporter": "python",
   "pygments_lexer": "ipython3",
   "version": "3.9.12"
  }
 },
 "nbformat": 4,
 "nbformat_minor": 0
}
