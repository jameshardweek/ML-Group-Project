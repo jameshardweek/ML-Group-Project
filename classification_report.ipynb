{
 "cells": [
  {
   "cell_type": "markdown",
   "metadata": {},
   "source": [
    "Imports"
   ]
  },
  {
   "cell_type": "code",
   "execution_count": 1,
   "metadata": {},
   "outputs": [],
   "source": [
    "import numpy as np\n",
    "import pandas as pd\n",
    "from sklearn.feature_extraction.text import TfidfVectorizer\n",
    "from sklearn.metrics import accuracy_score, classification_report, ConfusionMatrixDisplay\n",
    "from sklearn.model_selection import train_test_split\n",
    "from sklearn.naive_bayes import MultinomialNB\n",
    "from joblib import dump, load\n",
    "from sklearn import svm\n",
    "from sklearn.neighbors import KNeighborsClassifier\n",
    "import math\n",
    "\n",
    "df = pd.read_csv('data/all_processed.csv')\n",
    "y = df['status']\n",
    "X = df['text']\n",
    "\n",
    "# td  = TfidfVectorizer()\n",
    "td = load('models/td_both')\n",
    "X = td.fit_transform(X)\n",
    "\n",
    "X_train, X_test, y_train, y_test = train_test_split(X, y, test_size = 0.3, random_state=0)"
   ]
  },
  {
   "cell_type": "code",
   "execution_count": 2,
   "metadata": {},
   "outputs": [],
   "source": [
    "model_file = 'models/svm_both'\n",
    "clf = load(model_file)\n",
    "\n",
    "# n = int(math.sqrt(X_train.shape[0]))\n",
    "\n",
    "# clf = KNeighborsClassifier(n_neighbors=5)\n",
    "# clf.fit(X_train, y_train)\n",
    "\n",
    "# clf = svm.SVC()\n",
    "# clf.fit(X_train, y_train)"
   ]
  },
  {
   "cell_type": "code",
   "execution_count": 3,
   "metadata": {},
   "outputs": [],
   "source": [
    "y_pred = clf.predict(X_test)"
   ]
  },
  {
   "cell_type": "code",
   "execution_count": 4,
   "metadata": {},
   "outputs": [
    {
     "name": "stdout",
     "output_type": "stream",
     "text": [
      "\n",
      "Accuracy: 0.9646810753821824\n",
      "\n",
      "Classification Report:\n",
      "======================================================\n",
      "              precision    recall  f1-score   support\n",
      "\n",
      "           0       0.96      0.99      0.98      1335\n",
      "           1       0.97      0.91      0.94       562\n",
      "\n",
      "    accuracy                           0.96      1897\n",
      "   macro avg       0.97      0.95      0.96      1897\n",
      "weighted avg       0.96      0.96      0.96      1897\n",
      "\n",
      "======================================================\n"
     ]
    }
   ],
   "source": [
    "classification_report = classification_report(y_test, y_pred)\n",
    "\n",
    "print()\n",
    "print(f'Accuracy: {accuracy_score(y_test, y_pred)}')\n",
    "print()\n",
    "print(f'Classification Report:')\n",
    "print(f'======================================================')\n",
    "print(f'{classification_report}')\n",
    "print(f'======================================================')"
   ]
  },
  {
   "cell_type": "code",
   "execution_count": 5,
   "metadata": {},
   "outputs": [
    {
     "data": {
      "text/plain": [
       "<sklearn.metrics._plot.confusion_matrix.ConfusionMatrixDisplay at 0x1097ad3a0>"
      ]
     },
     "execution_count": 5,
     "metadata": {},
     "output_type": "execute_result"
    },
    {
     "data": {
      "image/png": "[encoded data removed]",
      "text/plain": [
       "<Figure size 432x288 with 2 Axes>"
      ]
     },
     "metadata": {
      "needs_background": "light"
     },
     "output_type": "display_data"
    }
   ],
   "source": [
    "ConfusionMatrixDisplay.from_estimator(clf, X_test, y_test)"
   ]
  }
 ],
 "metadata": {
  "interpreter": {
   "hash": "b0fa6594d8f4cbf19f97940f81e996739fb7646882a419484c72d19e05852a7e"
  },
  "kernelspec": {
   "display_name": "Python 3.9.12 64-bit",
   "language": "python",
   "name": "python3"
  },
  "language_info": {
   "codemirror_mode": {
    "name": "ipython",
    "version": 3
   },
   "file_extension": ".py",
   "mimetype": "text/x-python",
   "name": "python",
   "nbconvert_exporter": "python",
   "pygments_lexer": "ipython3",
   "version": "3.9.12"
  },
  "orig_nbformat": 4
 },
 "nbformat": 4,
 "nbformat_minor": 2
}
